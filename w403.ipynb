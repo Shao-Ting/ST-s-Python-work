{
 "cells": [
  {
   "cell_type": "code",
   "execution_count": 3,
   "metadata": {},
   "outputs": [],
   "source": [
    "%matplotlib inline\n",
    "import numpy as np\n",
    "import matplotlib.pyplot as plt\n",
    "import pandas as pd"
   ]
  },
  {
   "cell_type": "code",
   "execution_count": 4,
   "metadata": {},
   "outputs": [],
   "source": [
    "from numpy.random import randint\n",
    "from numpy.random import choice"
   ]
  },
  {
   "cell_type": "code",
   "execution_count": 7,
   "metadata": {},
   "outputs": [
    {
     "name": "stdout",
     "output_type": "stream",
     "text": [
      "早餐食物清單(每個選項請用空白鍵隔開): 御飯糰 三明治 麥片 粥 包子 饅頭 煎餃 油條 茶葉蛋\n",
      "午餐食物清單(每個選項請用空白鍵隔開): 滷肉飯 咖哩飯 餛飩麵 煎餃 炒麵 肉圓 義大利麵 焗烤 火鍋 水餃\n",
      "晚餐食物清單(每個選項請用空白鍵隔開): 滷肉飯 咖哩飯 餛飩麵 煎餃 炒麵 肉圓 義大利麵 焗烤 火鍋 水餃 泡麵 關東煮\n",
      "飲料或湯清單(每個選項請用空白鍵隔開): 水 玉米濃湯 餛飩湯 味噌湯 貢丸湯 奶茶 紅茶 綠茶 麥茶 可樂 雪碧 豆漿 牛奶 巧克力奶茶 草莓奶茶 檸檬紅茶 氣泡水 果汁 仙草茶 咖啡\n",
      "早餐吃... ['煎餃'] + []\n",
      "午餐吃... ['焗烤'] + []\n",
      "晚餐吃... ['煎餃'] + ['氣泡水']\n"
     ]
    }
   ],
   "source": [
    "ham=input('早餐食物清單(每個選項請用空白鍵隔開): ')\n",
    "ham2=input('午餐食物清單(每個選項請用空白鍵隔開): ')\n",
    "ham3=input('晚餐食物清單(每個選項請用空白鍵隔開): ')\n",
    "ham4=input('飲料或湯清單(每個選項請用空白鍵隔開): ')\n",
    "spam=ham.split(' ')\n",
    "spam2=ham2.split(' ')\n",
    "spam3=ham3.split(' ')\n",
    "spam4=ham4.split(' ')\n",
    "drink=randint(0,2)\n",
    "drink2=randint(0,2)\n",
    "drink3=randint(0,2)\n",
    "print('早餐吃...',choice(spam,1),'+',choice(spam4,drink))\n",
    "print('午餐吃...',choice(spam2,1),'+',choice(spam4,drink2))\n",
    "print('晚餐吃...',choice(spam3,1),'+',choice(spam4,drink3))"
   ]
  },
  {
   "cell_type": "code",
   "execution_count": null,
   "metadata": {},
   "outputs": [],
   "source": []
  }
 ],
 "metadata": {
  "kernelspec": {
   "display_name": "Python 3",
   "language": "python",
   "name": "python3"
  }
 },
 "nbformat": 4,
 "nbformat_minor": 2
}
