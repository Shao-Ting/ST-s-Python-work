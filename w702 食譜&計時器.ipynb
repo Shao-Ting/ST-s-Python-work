{
 "cells": [
  {
   "cell_type": "code",
   "execution_count": 1,
   "metadata": {},
   "outputs": [],
   "source": [
    "%matplotlib inline\n",
    "import numpy as np\n",
    "import matplotlib.pyplot as plt\n",
    "import pandas as pd\n",
    "import time\n",
    "from ipywidgets import interact"
   ]
  },
  {
   "cell_type": "code",
   "execution_count": null,
   "metadata": {},
   "outputs": [
    {
     "name": "stdout",
     "output_type": "stream",
     "text": [
      "今天想要做什麼?\n"
     ]
    },
    {
     "data": {
      "application/vnd.jupyter.widget-view+json": {
       "model_id": "74d718992ca04434bb5e70c8690bcd46",
       "version_major": 2,
       "version_minor": 0
      },
      "text/plain": [
       "interactive(children=(Dropdown(description='x', options={'舒芙蕾': '材料:\\n蛋 *2\\n低筋麵粉 15g\\n牛奶 100g\\n白砂糖 20g\\n------…"
      ]
     },
     "metadata": {},
     "output_type": "display_data"
    }
   ],
   "source": [
    "print(\"今天想要做什麼?\")\n",
    "def f(x):\n",
    "    print(x)\n",
    "interact(f,x={'舒芙蕾':'''材料:\n",
    "蛋 *2\n",
    "低筋麵粉 15g\n",
    "牛奶 100g\n",
    "白砂糖 20g\n",
    "----------------\n",
    "作法:\n",
    "1. 先取適量的奶油刷在杯子裡再倒入細砂糖多餘的倒出\n",
    "2. 加入蛋黃與10g糖\n",
    "3. 用篩網倒入15g麵粉攪拌\n",
    "4. 100cc牛奶加熱再加入麵糊裡分次倒入加熱攪拌\n",
    "5. 麵糊先用保鮮膜包著放置一旁\n",
    "6. 烤箱預熱180度\n",
    "7. 打蛋清:糖分三次加入,低速把打發泡之後加入麵糊中\n",
    "8. 放入模型中加入蔓越莓乾 輕輕摔一下 再把上面多餘的刮平\n",
    "9. 放入烤箱15分,舒芙蕾完成\n",
    "''', '伯爵燕麥軟餅乾':'''材料(份量10片):\n",
    "動物奶油 100g\n",
    "低筋麵粉 165g\n",
    "黑糖 100g\n",
    "鹽 一小匙\n",
    "伯爵茶包 一包\n",
    "燕麥 30g\n",
    "果乾 30g\n",
    "蛋 *1\n",
    "----------------\n",
    "作法:\n",
    "1. 奶油切小塊與黑糖入盆拌勻\n",
    "2. 用電動攪拌機繼續打入空氣,打好加入鹽\n",
    "3. 加入麵粉,稍微拌勻\n",
    "4. 加入果乾,燕麥,茶包中的茶葉\n",
    "5. 攪拌至麵團乾黏,加入雞蛋,拌至濕黏\n",
    "6. 烤箱180度,烤15分'''\n",
    ", '奶酪':'''材料:\n",
    "鮮奶油 400cc\n",
    "牛奶 400cc\n",
    "2號砂糖 40g\n",
    "吉利丁 8g\n",
    "藍莓醬(藍莓果醬300g/糖30g)\n",
    "----------------\n",
    "1. 將鮮奶油與牛奶，倒入鍋中用小火加熱\n",
    "2. 加入二號砂糖，攪拌均勻\n",
    "3. 最後加入吉利丁粉，攪拌均勻\n",
    "4. 放涼 倒入容器 冷藏2-3小時即可\n",
    "5. ［藍莓醬］將藍莓粒放入鍋中 小火加熱至出水 最後加入砂糖攪拌均勻 放涼\n",
    "6. 將藍莓醬放至奶酪上面'''\n",
    "})\n",
    "\n",
    "x=input(\"計時器：\")\n",
    "X=60*int(x)\n",
    "while X!=0:\n",
    "    time.sleep(10)  \n",
    "    X=X-10\n",
    "    print(X)\n",
    "print(\"時間到\")"
   ]
  },
  {
   "cell_type": "code",
   "execution_count": null,
   "metadata": {},
   "outputs": [],
   "source": []
  }
 ],
 "metadata": {
  "kernelspec": {
   "display_name": "Python 3",
   "language": "python",
   "name": "python3"
  },
  "language_info": {
   "codemirror_mode": {
    "name": "ipython",
    "version": 3
   },
   "file_extension": ".py",
   "mimetype": "text/x-python",
   "name": "python",
   "nbconvert_exporter": "python",
   "pygments_lexer": "ipython3",
   "version": "3.7.3"
  }
 },
 "nbformat": 4,
 "nbformat_minor": 2
}
