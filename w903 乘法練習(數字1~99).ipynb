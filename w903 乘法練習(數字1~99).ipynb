{
 "cells": [
  {
   "cell_type": "code",
   "execution_count": 1,
   "metadata": {},
   "outputs": [],
   "source": [
    "%matplotlib inline\n",
    "import numpy as np\n",
    "import matplotlib.pyplot as plt\n",
    "import pandas as pd\n",
    "import sympy as sp"
   ]
  },
  {
   "cell_type": "code",
   "execution_count": 2,
   "metadata": {},
   "outputs": [
    {
     "name": "stdout",
     "output_type": "stream",
     "text": [
      "題目32x7\n",
      "請輸入答案: 234\n",
      "答錯囉...\n"
     ]
    }
   ],
   "source": [
    "b = np.random.randint(1, 100)\n",
    "a = np.random.randint(1, 100)\n",
    "x = a*b\n",
    "b = str(b)\n",
    "a = str(a)\n",
    "print('題目'+ a + 'x' + b )\n",
    "X = input('請輸入答案: ')\n",
    "X = float(X)\n",
    "if X<x:\n",
    "    print('答錯囉...')\n",
    "elif X>x:\n",
    "    print('答錯囉...')\n",
    "else:\n",
    "    print('答對了!!')"
   ]
  },
  {
   "cell_type": "markdown",
   "metadata": {},
   "source": [
    "#當\n",
    "#if X!=x:\n",
    "#print('答錯囉...')\n",
    "#elif X=x:\n",
    "#print('答對了!!')\n",
    "#會錯誤...再想想看怎麼改..."
   ]
  },
  {
   "cell_type": "code",
   "execution_count": null,
   "metadata": {},
   "outputs": [],
   "source": []
  }
 ],
 "metadata": {
  "kernelspec": {
   "display_name": "Python 3",
   "language": "python",
   "name": "python3"
  },
  "language_info": {
   "codemirror_mode": {
    "name": "ipython",
    "version": 3
   },
   "file_extension": ".py",
   "mimetype": "text/x-python",
   "name": "python",
   "nbconvert_exporter": "python",
   "pygments_lexer": "ipython3",
   "version": "3.7.3"
  }
 },
 "nbformat": 4,
 "nbformat_minor": 2
}
