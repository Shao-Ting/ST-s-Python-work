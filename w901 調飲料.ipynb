{
 "cells": [
  {
   "cell_type": "code",
   "execution_count": 1,
   "metadata": {},
   "outputs": [],
   "source": [
    "%matplotlib inline\n",
    "import numpy as np\n",
    "import matplotlib.pyplot as plt\n",
    "import pandas as pd"
   ]
  },
  {
   "cell_type": "code",
   "execution_count": 2,
   "metadata": {},
   "outputs": [],
   "source": [
    "from numpy.random import randint\n",
    "from numpy.random import choice"
   ]
  },
  {
   "cell_type": "code",
   "execution_count": 6,
   "metadata": {},
   "outputs": [
    {
     "name": "stdout",
     "output_type": "stream",
     "text": [
      "來調配... ['大正紅茶'] + ['布丁' '椰果'] + ['少糖(七分)'] + ['熱']\n"
     ]
    }
   ],
   "source": [
    "drink1 = ['奶茶','大正紅茶','綠茶','麥茶','鐵觀音','伯爵紅茶','水果茶']\n",
    "ham1 = ['珍珠','椰果','布丁','仙草','燕麥','紅豆','綠豆','愛玉','山粉圓','西穀米']\n",
    "sweet = ['無糖','微糖(三分)','半糖(五分)','少糖(七分)','全糖']\n",
    "ice = ['去冰','微冰(四分)','少冰(七分)','全冰','溫','熱']\n",
    "drink=randint(0,3)\n",
    "print('來調配...',choice(drink1,1),'+',choice(ham1,drink),'+',choice(sweet,1),'+',choice(ice,1))"
   ]
  },
  {
   "cell_type": "code",
   "execution_count": null,
   "metadata": {},
   "outputs": [],
   "source": []
  }
 ],
 "metadata": {
  "kernelspec": {
   "display_name": "Python 3",
   "language": "python",
   "name": "python3"
  },
  "language_info": {
   "codemirror_mode": {
    "name": "ipython",
    "version": 3
   },
   "file_extension": ".py",
   "mimetype": "text/x-python",
   "name": "python",
   "nbconvert_exporter": "python",
   "pygments_lexer": "ipython3",
   "version": "3.7.3"
  }
 },
 "nbformat": 4,
 "nbformat_minor": 2
}
