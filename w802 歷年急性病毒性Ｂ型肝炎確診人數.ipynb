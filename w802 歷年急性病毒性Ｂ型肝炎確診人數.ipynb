{
 "cells": [
  {
   "cell_type": "code",
   "execution_count": 1,
   "metadata": {},
   "outputs": [],
   "source": [
    "%matplotlib inline\n",
    "import numpy as np\n",
    "import matplotlib.pyplot as plt\n",
    "import pandas as pd"
   ]
  },
  {
   "cell_type": "code",
   "execution_count": 2,
   "metadata": {},
   "outputs": [],
   "source": [
    "df = pd.read_csv(\"https://quality.data.gov.tw/dq_download_csv.php?nid=9882&md5_url=9e8dfb190b2bfe7ba15100559ac3606f\")"
   ]
  },
  {
   "cell_type": "code",
   "execution_count": 3,
   "metadata": {
    "scrolled": true
   },
   "outputs": [
    {
     "data": {
      "text/html": [
       "<div>\n",
       "<style scoped>\n",
       "    .dataframe tbody tr th:only-of-type {\n",
       "        vertical-align: middle;\n",
       "    }\n",
       "\n",
       "    .dataframe tbody tr th {\n",
       "        vertical-align: top;\n",
       "    }\n",
       "\n",
       "    .dataframe thead th {\n",
       "        text-align: right;\n",
       "    }\n",
       "</style>\n",
       "<table border=\"1\" class=\"dataframe\">\n",
       "  <thead>\n",
       "    <tr style=\"text-align: right;\">\n",
       "      <th></th>\n",
       "      <th>確定病名</th>\n",
       "      <th>發病年份</th>\n",
       "      <th>發病週別</th>\n",
       "      <th>縣市</th>\n",
       "      <th>鄉鎮</th>\n",
       "      <th>性別</th>\n",
       "      <th>是否為境外移入</th>\n",
       "      <th>年齡層</th>\n",
       "      <th>確定病例數</th>\n",
       "    </tr>\n",
       "  </thead>\n",
       "  <tbody>\n",
       "    <tr>\n",
       "      <th>0</th>\n",
       "      <td>急性病毒性Ｂ型肝炎</td>\n",
       "      <td>2003</td>\n",
       "      <td>11</td>\n",
       "      <td>高雄市</td>\n",
       "      <td>三民區</td>\n",
       "      <td>M</td>\n",
       "      <td>否</td>\n",
       "      <td>50-54</td>\n",
       "      <td>1</td>\n",
       "    </tr>\n",
       "    <tr>\n",
       "      <th>1</th>\n",
       "      <td>急性病毒性Ｂ型肝炎</td>\n",
       "      <td>2003</td>\n",
       "      <td>22</td>\n",
       "      <td>台中市</td>\n",
       "      <td>西屯區</td>\n",
       "      <td>F</td>\n",
       "      <td>否</td>\n",
       "      <td>20-24</td>\n",
       "      <td>1</td>\n",
       "    </tr>\n",
       "    <tr>\n",
       "      <th>2</th>\n",
       "      <td>急性病毒性Ｂ型肝炎</td>\n",
       "      <td>2003</td>\n",
       "      <td>28</td>\n",
       "      <td>彰化縣</td>\n",
       "      <td>彰化市</td>\n",
       "      <td>M</td>\n",
       "      <td>否</td>\n",
       "      <td>20-24</td>\n",
       "      <td>1</td>\n",
       "    </tr>\n",
       "    <tr>\n",
       "      <th>3</th>\n",
       "      <td>急性病毒性Ｂ型肝炎</td>\n",
       "      <td>2003</td>\n",
       "      <td>33</td>\n",
       "      <td>台南市</td>\n",
       "      <td>新化區</td>\n",
       "      <td>M</td>\n",
       "      <td>否</td>\n",
       "      <td>25-29</td>\n",
       "      <td>1</td>\n",
       "    </tr>\n",
       "    <tr>\n",
       "      <th>4</th>\n",
       "      <td>急性病毒性Ｂ型肝炎</td>\n",
       "      <td>2003</td>\n",
       "      <td>33</td>\n",
       "      <td>新北市</td>\n",
       "      <td>蘆洲區</td>\n",
       "      <td>F</td>\n",
       "      <td>否</td>\n",
       "      <td>20-24</td>\n",
       "      <td>1</td>\n",
       "    </tr>\n",
       "  </tbody>\n",
       "</table>\n",
       "</div>"
      ],
      "text/plain": [
       "        確定病名  發病年份  發病週別   縣市   鄉鎮 性別 是否為境外移入    年齡層  確定病例數\n",
       "0  急性病毒性Ｂ型肝炎  2003    11  高雄市  三民區  M       否  50-54      1\n",
       "1  急性病毒性Ｂ型肝炎  2003    22  台中市  西屯區  F       否  20-24      1\n",
       "2  急性病毒性Ｂ型肝炎  2003    28  彰化縣  彰化市  M       否  20-24      1\n",
       "3  急性病毒性Ｂ型肝炎  2003    33  台南市  新化區  M       否  25-29      1\n",
       "4  急性病毒性Ｂ型肝炎  2003    33  新北市  蘆洲區  F       否  20-24      1"
      ]
     },
     "execution_count": 3,
     "metadata": {},
     "output_type": "execute_result"
    }
   ],
   "source": [
    "df.head()"
   ]
  },
  {
   "cell_type": "markdown",
   "metadata": {},
   "source": [
    "### 刪去用不到的行列"
   ]
  },
  {
   "cell_type": "code",
   "execution_count": 4,
   "metadata": {},
   "outputs": [],
   "source": [
    "df.drop('鄉鎮', axis=1, inplace=True)"
   ]
  },
  {
   "cell_type": "code",
   "execution_count": 5,
   "metadata": {},
   "outputs": [],
   "source": [
    "df.drop('是否為境外移入', axis=1, inplace=True)"
   ]
  },
  {
   "cell_type": "code",
   "execution_count": 6,
   "metadata": {},
   "outputs": [],
   "source": [
    "df.drop('確定病例數', axis=1, inplace=True)"
   ]
  },
  {
   "cell_type": "code",
   "execution_count": 7,
   "metadata": {},
   "outputs": [],
   "source": [
    "df.drop('發病週別', axis=1, inplace=True)"
   ]
  },
  {
   "cell_type": "code",
   "execution_count": 8,
   "metadata": {},
   "outputs": [
    {
     "data": {
      "text/html": [
       "<div>\n",
       "<style scoped>\n",
       "    .dataframe tbody tr th:only-of-type {\n",
       "        vertical-align: middle;\n",
       "    }\n",
       "\n",
       "    .dataframe tbody tr th {\n",
       "        vertical-align: top;\n",
       "    }\n",
       "\n",
       "    .dataframe thead th {\n",
       "        text-align: right;\n",
       "    }\n",
       "</style>\n",
       "<table border=\"1\" class=\"dataframe\">\n",
       "  <thead>\n",
       "    <tr style=\"text-align: right;\">\n",
       "      <th></th>\n",
       "      <th>確定病名</th>\n",
       "      <th>發病年份</th>\n",
       "      <th>縣市</th>\n",
       "      <th>性別</th>\n",
       "      <th>年齡層</th>\n",
       "    </tr>\n",
       "  </thead>\n",
       "  <tbody>\n",
       "    <tr>\n",
       "      <th>0</th>\n",
       "      <td>急性病毒性Ｂ型肝炎</td>\n",
       "      <td>2003</td>\n",
       "      <td>高雄市</td>\n",
       "      <td>M</td>\n",
       "      <td>50-54</td>\n",
       "    </tr>\n",
       "    <tr>\n",
       "      <th>1</th>\n",
       "      <td>急性病毒性Ｂ型肝炎</td>\n",
       "      <td>2003</td>\n",
       "      <td>台中市</td>\n",
       "      <td>F</td>\n",
       "      <td>20-24</td>\n",
       "    </tr>\n",
       "    <tr>\n",
       "      <th>2</th>\n",
       "      <td>急性病毒性Ｂ型肝炎</td>\n",
       "      <td>2003</td>\n",
       "      <td>彰化縣</td>\n",
       "      <td>M</td>\n",
       "      <td>20-24</td>\n",
       "    </tr>\n",
       "    <tr>\n",
       "      <th>3</th>\n",
       "      <td>急性病毒性Ｂ型肝炎</td>\n",
       "      <td>2003</td>\n",
       "      <td>台南市</td>\n",
       "      <td>M</td>\n",
       "      <td>25-29</td>\n",
       "    </tr>\n",
       "    <tr>\n",
       "      <th>4</th>\n",
       "      <td>急性病毒性Ｂ型肝炎</td>\n",
       "      <td>2003</td>\n",
       "      <td>新北市</td>\n",
       "      <td>F</td>\n",
       "      <td>20-24</td>\n",
       "    </tr>\n",
       "  </tbody>\n",
       "</table>\n",
       "</div>"
      ],
      "text/plain": [
       "        確定病名  發病年份   縣市 性別    年齡層\n",
       "0  急性病毒性Ｂ型肝炎  2003  高雄市  M  50-54\n",
       "1  急性病毒性Ｂ型肝炎  2003  台中市  F  20-24\n",
       "2  急性病毒性Ｂ型肝炎  2003  彰化縣  M  20-24\n",
       "3  急性病毒性Ｂ型肝炎  2003  台南市  M  25-29\n",
       "4  急性病毒性Ｂ型肝炎  2003  新北市  F  20-24"
      ]
     },
     "execution_count": 8,
     "metadata": {},
     "output_type": "execute_result"
    }
   ],
   "source": [
    "df.head()"
   ]
  },
  {
   "cell_type": "markdown",
   "metadata": {},
   "source": [
    "### 直方圖"
   ]
  },
  {
   "cell_type": "code",
   "execution_count": 9,
   "metadata": {
    "scrolled": true
   },
   "outputs": [
    {
     "data": {
      "text/plain": [
       "<matplotlib.axes._subplots.AxesSubplot at 0x1acd2e80ef0>"
      ]
     },
     "execution_count": 9,
     "metadata": {},
     "output_type": "execute_result"
    },
    {
     "data": {
      "image/png": "[encoded data removed]",
      "text/plain": [
       "<Figure size 432x288 with 1 Axes>"
      ]
     },
     "metadata": {
      "needs_background": "light"
     },
     "output_type": "display_data"
    }
   ],
   "source": [
    "df.發病年份.hist()"
   ]
  },
  {
   "cell_type": "markdown",
   "metadata": {},
   "source": [
    "### 挑出特定數據:如台北市"
   ]
  },
  {
   "cell_type": "code",
   "execution_count": 11,
   "metadata": {
    "scrolled": true
   },
   "outputs": [
    {
     "data": {
      "text/html": [
       "<div>\n",
       "<style scoped>\n",
       "    .dataframe tbody tr th:only-of-type {\n",
       "        vertical-align: middle;\n",
       "    }\n",
       "\n",
       "    .dataframe tbody tr th {\n",
       "        vertical-align: top;\n",
       "    }\n",
       "\n",
       "    .dataframe thead th {\n",
       "        text-align: right;\n",
       "    }\n",
       "</style>\n",
       "<table border=\"1\" class=\"dataframe\">\n",
       "  <thead>\n",
       "    <tr style=\"text-align: right;\">\n",
       "      <th></th>\n",
       "      <th>確定病名</th>\n",
       "      <th>發病年份</th>\n",
       "      <th>縣市</th>\n",
       "      <th>性別</th>\n",
       "      <th>年齡層</th>\n",
       "    </tr>\n",
       "  </thead>\n",
       "  <tbody>\n",
       "    <tr>\n",
       "      <th>6</th>\n",
       "      <td>急性病毒性Ｂ型肝炎</td>\n",
       "      <td>2003</td>\n",
       "      <td>台北市</td>\n",
       "      <td>M</td>\n",
       "      <td>45-49</td>\n",
       "    </tr>\n",
       "    <tr>\n",
       "      <th>8</th>\n",
       "      <td>急性病毒性Ｂ型肝炎</td>\n",
       "      <td>2003</td>\n",
       "      <td>台北市</td>\n",
       "      <td>F</td>\n",
       "      <td>40-44</td>\n",
       "    </tr>\n",
       "    <tr>\n",
       "      <th>18</th>\n",
       "      <td>急性病毒性Ｂ型肝炎</td>\n",
       "      <td>2005</td>\n",
       "      <td>台北市</td>\n",
       "      <td>M</td>\n",
       "      <td>25-29</td>\n",
       "    </tr>\n",
       "    <tr>\n",
       "      <th>19</th>\n",
       "      <td>急性病毒性Ｂ型肝炎</td>\n",
       "      <td>2005</td>\n",
       "      <td>台北市</td>\n",
       "      <td>F</td>\n",
       "      <td>25-29</td>\n",
       "    </tr>\n",
       "    <tr>\n",
       "      <th>22</th>\n",
       "      <td>急性病毒性Ｂ型肝炎</td>\n",
       "      <td>2006</td>\n",
       "      <td>台北市</td>\n",
       "      <td>F</td>\n",
       "      <td>30-34</td>\n",
       "    </tr>\n",
       "  </tbody>\n",
       "</table>\n",
       "</div>"
      ],
      "text/plain": [
       "         確定病名  發病年份   縣市 性別    年齡層\n",
       "6   急性病毒性Ｂ型肝炎  2003  台北市  M  45-49\n",
       "8   急性病毒性Ｂ型肝炎  2003  台北市  F  40-44\n",
       "18  急性病毒性Ｂ型肝炎  2005  台北市  M  25-29\n",
       "19  急性病毒性Ｂ型肝炎  2005  台北市  F  25-29\n",
       "22  急性病毒性Ｂ型肝炎  2006  台北市  F  30-34"
      ]
     },
     "execution_count": 11,
     "metadata": {},
     "output_type": "execute_result"
    }
   ],
   "source": [
    "df[df.縣市 == '台北市'].head()"
   ]
  },
  {
   "cell_type": "code",
   "execution_count": 20,
   "metadata": {},
   "outputs": [
    {
     "data": {
      "text/plain": [
       "<matplotlib.axes._subplots.AxesSubplot at 0x1c0c06a45f8>"
      ]
     },
     "execution_count": 20,
     "metadata": {},
     "output_type": "execute_result"
    },
    {
     "name": "stderr",
     "output_type": "stream",
     "text": [
      "C:\\Users\\li\\Anaconda3\\lib\\site-packages\\matplotlib\\backends\\backend_agg.py:211: RuntimeWarning: Glyph 21488 missing from current font.\n",
      "  font.set_text(s, 0.0, flags=flags)\n",
      "C:\\Users\\li\\Anaconda3\\lib\\site-packages\\matplotlib\\backends\\backend_agg.py:180: RuntimeWarning: Glyph 21488 missing from current font.\n",
      "  font.set_text(s, 0, flags=flags)\n"
     ]
    },
    {
     "data": {
      "image/png": "[encoded data removed]",
      "text/plain": [
       "<Figure size 432x288 with 1 Axes>"
      ]
     },
     "metadata": {
      "needs_background": "light"
     },
     "output_type": "display_data"
    }
   ],
   "source": [
    "df.縣市.hist()    ###還在想要怎麼做出來"
   ]
  },
  {
   "cell_type": "code",
   "execution_count": null,
   "metadata": {},
   "outputs": [],
   "source": []
  }
 ],
 "metadata": {
  "kernelspec": {
   "display_name": "Python 3",
   "language": "python",
   "name": "python3"
  },
  "language_info": {
   "codemirror_mode": {
    "name": "ipython",
    "version": 3
   },
   "file_extension": ".py",
   "mimetype": "text/x-python",
   "name": "python",
   "nbconvert_exporter": "python",
   "pygments_lexer": "ipython3",
   "version": "3.7.3"
  }
 },
 "nbformat": 4,
 "nbformat_minor": 2
}
