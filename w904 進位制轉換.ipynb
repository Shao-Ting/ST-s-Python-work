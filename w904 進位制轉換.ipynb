{
 "cells": [
  {
   "cell_type": "code",
   "execution_count": 1,
   "metadata": {},
   "outputs": [],
   "source": [
    "%matplotlib inline\n",
    "import numpy as np\n",
    "import matplotlib.pyplot as plt\n",
    "import pandas as pd"
   ]
  },
  {
   "cell_type": "code",
   "execution_count": 2,
   "metadata": {},
   "outputs": [
    {
     "name": "stdout",
     "output_type": "stream",
     "text": [
      "請輸入數字(十進位): 85493\n",
      "十進位制 =  85493\n",
      "二進位制 =  0b10100110111110101\n",
      "八進位制 =  0o246765\n",
      "十六進位制 =  0x14df5\n"
     ]
    }
   ],
   "source": [
    "dec = int(input(\"請輸入數字(十進位): \"))\n",
    "\n",
    "print('十進位制 = ', dec)\n",
    "print('二進位制 = ', bin(dec))\n",
    "print('八進位制 = ', oct(dec))\n",
    "print('十六進位制 = ', hex(dec))"
   ]
  },
  {
   "cell_type": "code",
   "execution_count": 3,
   "metadata": {},
   "outputs": [],
   "source": [
    "#'0b'是二進位的開頭\n",
    "#'0o'是八進位的開頭\n",
    "#'0x'是十六進位的開頭"
   ]
  },
  {
   "cell_type": "code",
   "execution_count": null,
   "metadata": {},
   "outputs": [],
   "source": []
  }
 ],
 "metadata": {
  "kernelspec": {
   "display_name": "Python 3",
   "language": "python",
   "name": "python3"
  },
  "language_info": {
   "codemirror_mode": {
    "name": "ipython",
    "version": 3
   },
   "file_extension": ".py",
   "mimetype": "text/x-python",
   "name": "python",
   "nbconvert_exporter": "python",
   "pygments_lexer": "ipython3",
   "version": "3.7.3"
  }
 },
 "nbformat": 4,
 "nbformat_minor": 2
}
