{
 "cells": [
  {
   "cell_type": "code",
   "execution_count": 1,
   "metadata": {},
   "outputs": [],
   "source": [
    "%matplotlib inline\n",
    "import numpy as np\n",
    "import matplotlib.pyplot as plt\n",
    "import pandas as pd\n",
    "from ipywidgets import interact"
   ]
  },
  {
   "cell_type": "code",
   "execution_count": null,
   "metadata": {},
   "outputs": [],
   "source": [
    "##待修改"
   ]
  },
  {
   "cell_type": "code",
   "execution_count": 36,
   "metadata": {},
   "outputs": [
    {
     "name": "stdout",
     "output_type": "stream",
     "text": [
      "請輸入成績(每個成績請用空白鍵隔開):2 5 7\n",
      "請問需要次方運算嗎?(請填入是/否) 是\n",
      "請問要幾次方? 2\n",
      "請問需要乘除運算嗎?(請填入是/否) 是\n",
      "請問要乘多少? 5\n",
      "請問需要加減運算嗎?(請填入是/否) 否\n",
      "原始成績: 2 // 改變後成績: 20\n",
      "原始成績: 5 // 改變後成績: 125\n",
      "原始成績: 7 // 改變後成績: 245\n"
     ]
    }
   ],
   "source": [
    "grades = input('請輸入成績(每個成績請用空白鍵隔開):')\n",
    "new_grades = []\n",
    "\n",
    "ham = input('請問需要次方運算嗎?(請填入是/否) ')\n",
    "data = grades.split(' ')\n",
    "if  '是' in ham:\n",
    "    n = input('請問要幾次方? ')\n",
    "    n = int(n)\n",
    "    spam = input('請問需要乘除運算嗎?(請填入是/否) ')\n",
    "    if '是' in spam:\n",
    "        m = input('請問要乘多少? ')\n",
    "        m = int(m )\n",
    "        cheese = input('請問需要加減運算嗎?(請填入是/否) ')\n",
    "        if '是' in cheese:\n",
    "            x = input('請問要加減多少? ')\n",
    "            x = int(x)\n",
    "            for i in data:\n",
    "                i = float(i)\n",
    "                new_grades.append(i**n*m+x)\n",
    "                print('原始成績:',int(i),'//','改變後成績:',int(i**n*m+x))\n",
    "        if '否' in cheese:\n",
    "                for i in data:\n",
    "                    i = float(i)\n",
    "                    new_grades.append(i**n*m)\n",
    "                    print('原始成績:',int(i),'//','改變後成績:',int(i**n*m))\n",
    "                    \n",
    "    if '否' in spam:\n",
    "        cheese = input('請問需要加減運算嗎?(請填入是/否) ')\n",
    "        if '是' in cheese:\n",
    "            x = input('請問要加減多少? ')\n",
    "            x = int(x)\n",
    "            for i in data:\n",
    "                i = float(i)\n",
    "                new_grades.append(i**n+x)\n",
    "                print('原始成績:',int(i),'//','改變後成績:',int(i**n+x))\n",
    "        if '否' in cheese:\n",
    "                for i in data:\n",
    "                    i = float(i)\n",
    "                    new_grades.append(i**n)\n",
    "                    print('原始成績:',int(i),'//','改變後成績:',int(i**n))\n",
    "                    \n",
    "elif  '否' in ham:\n",
    "    spam = input('請問需要乘除運算嗎?(請填入是/否) ')\n",
    "    if '是' in spam:\n",
    "        m = input('請問要乘多少? ')\n",
    "        m = int(m)\n",
    "        cheese = input('請問需要加減運算嗎?(請填入是/否) ')\n",
    "        if '是' in cheese:\n",
    "            x = input('請問要加減多少? ')\n",
    "            x = int(x)\n",
    "            for i in data:\n",
    "                i = float(i)\n",
    "                new_grades.append(i*m+x)\n",
    "                print('原始成績:',int(i),'//','改變後成績:',int(i*m+x))\n",
    "        if '否' in cheese:\n",
    "                for i in data:\n",
    "                    i = float(i)\n",
    "                    new_grades.append(i*m)\n",
    "                    print('原始成績:',int(i),'//','改變後成績:',int(i*m))\n",
    "                    \n",
    "    if '否' in spam:\n",
    "        cheese = input('請問需要加減運算嗎?(請填入是/否) ')\n",
    "        if '是' in cheese:\n",
    "            x = input('請問要加減多少? ')\n",
    "            x = int(x)\n",
    "            for i in data:\n",
    "                i = float(i)\n",
    "                new_grades.append(i+x)\n",
    "                print('原始成績:',int(i),'//','改變後成績:',int(i+x))\n",
    "        if '否' in cheese:\n",
    "            for i in data:\n",
    "                i = float(i)\n",
    "                new_grades.append(i)\n",
    "                print('原始成績:',int(i),'//','改變後成績:',int(i))\n",
    "                print('[系統]根本沒變阿...')\n"
   ]
  },
  {
   "cell_type": "code",
   "execution_count": null,
   "metadata": {},
   "outputs": [],
   "source": []
  },
  {
   "cell_type": "code",
   "execution_count": null,
   "metadata": {},
   "outputs": [],
   "source": []
  },
  {
   "cell_type": "code",
   "execution_count": null,
   "metadata": {},
   "outputs": [],
   "source": []
  }
 ],
 "metadata": {
  "kernelspec": {
   "display_name": "Python 3",
   "language": "python",
   "name": "python3"
  },
  "language_info": {
   "codemirror_mode": {
    "name": "ipython",
    "version": 3
   },
   "file_extension": ".py",
   "mimetype": "text/x-python",
   "name": "python",
   "nbconvert_exporter": "python",
   "pygments_lexer": "ipython3",
   "version": "3.7.3"
  }
 },
 "nbformat": 4,
 "nbformat_minor": 2
}
