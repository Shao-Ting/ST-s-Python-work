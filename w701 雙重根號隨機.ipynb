{
 "cells": [
  {
   "cell_type": "code",
   "execution_count": 3,
   "metadata": {},
   "outputs": [],
   "source": [
    "%matplotlib inline\n",
    "import numpy as np\n",
    "import matplotlib.pyplot as plt\n",
    "import pandas as pd\n",
    "import sympy as sp"
   ]
  },
  {
   "cell_type": "markdown",
   "metadata": {},
   "source": [
    "隨機出雙重根號的題目"
   ]
  },
  {
   "cell_type": "code",
   "execution_count": 4,
   "metadata": {},
   "outputs": [],
   "source": [
    "sp.init_printing()"
   ]
  },
  {
   "cell_type": "code",
   "execution_count": 5,
   "metadata": {},
   "outputs": [
    {
     "name": "stdout",
     "output_type": "stream",
     "text": [
      "(題目 , 答案)\n"
     ]
    },
    {
     "data": {
      "image/png": "[encoded data removed]",
      "text/latex": [
       "$\\displaystyle \\left( \\sqrt{17 - 12 \\sqrt{2}}, \\  3 - 2 \\sqrt{2}\\right)$"
      ],
      "text/plain": [
       "⎛  ____________          ⎞\n",
       "⎝╲╱ 17 - 12⋅√2 , 3 - 2⋅√2⎠"
      ]
     },
     "execution_count": 5,
     "metadata": {},
     "output_type": "execute_result"
    }
   ],
   "source": [
    "b = np.random.randint(2, 25)\n",
    "a = np.random.randint(2, 25)\n",
    "x = b + a\n",
    "y = a * b\n",
    "if a > b:\n",
    "    Q = sp.sqrt(x + 2* sp.sqrt(y))\n",
    "    A = sp.sqrt(a) + sp.sqrt(b)\n",
    "elif a < b:\n",
    "    Q = sp.sqrt(x - 2* sp.sqrt(y))\n",
    "    A = sp.sqrt(b) - sp.sqrt(a)\n",
    "\n",
    "print('(題目 , 答案)')\n",
    "Q, A"
   ]
  },
  {
   "cell_type": "code",
   "execution_count": null,
   "metadata": {},
   "outputs": [],
   "source": [
    "#但是如果根號可以化簡, 題目可能會被弄到最簡...不確定有沒有方法能克服"
   ]
  }
 ],
 "metadata": {
  "kernelspec": {
   "display_name": "Python 3",
   "language": "python",
   "name": "python3"
  },
  "language_info": {
   "codemirror_mode": {
    "name": "ipython",
    "version": 3
   },
   "file_extension": ".py",
   "mimetype": "text/x-python",
   "name": "python",
   "nbconvert_exporter": "python",
   "pygments_lexer": "ipython3",
   "version": "3.7.3"
  }
 },
 "nbformat": 4,
 "nbformat_minor": 2
}
