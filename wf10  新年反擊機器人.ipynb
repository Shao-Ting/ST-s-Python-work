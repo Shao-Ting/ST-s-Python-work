{
 "cells": [
  {
   "cell_type": "code",
   "execution_count": 1,
   "metadata": {},
   "outputs": [],
   "source": [
    "%matplotlib inline\n",
    "import numpy as np\n",
    "import matplotlib.pyplot as plt\n",
    "import pandas as pd"
   ]
  },
  {
   "cell_type": "code",
   "execution_count": 2,
   "metadata": {},
   "outputs": [
    {
     "name": "stdout",
     "output_type": "stream",
     "text": [
      "[純屬娛樂,適可而止]\n",
      "[兒子躺槍預警!]\n",
      " \n",
      "(๑•́ ₃ •̀๑)他們又問你什麼問題\n",
      " 我:現在月薪多少?\n",
      "(๑•́ ₃ •̀๑)比你兒子多一點\n",
      " 我:有沒有對象了?要不要幫你介紹?\n",
      "(๑•́ ₃ •̀๑)有阿,你兒子\n",
      " 我:這次班上第幾名?\n",
      "(๑•́ ₃ •̀๑)比你兒子好\n",
      " 我:他們走了\n",
      "(๑•́ ₃ •̀๑)耐斯,休息一下吧\n"
     ]
    }
   ],
   "source": [
    "msg='新年反擊長輩機器人'\n",
    "print('[純屬娛樂,適可而止]')\n",
    "print('[兒子躺槍預警!]')\n",
    "print(' ')\n",
    "print('(๑•́ ₃ •̀๑)他們又問你什麼問題')\n",
    "while(msg!='他們走了'):\n",
    "    msg=input(' 我:')\n",
    "    if'月薪'in msg:\n",
    "        print('(๑•́ ₃ •̀๑)比你兒子多一點')\n",
    "    elif'他們走了'in msg:\n",
    "        print('(๑•́ ₃ •̀๑)耐斯,休息一下吧')\n",
    "    elif'第幾名'in msg:\n",
    "        print('(๑•́ ₃ •̀๑)比你兒子好')\n",
    "    elif'成績'in msg:\n",
    "        print('(๑•́ ₃ •̀๑)比你兒子高!')\n",
    "    elif'你怎麼可以'in msg:\n",
    "        print('(๑•́ ₃ •̀๑)只要我想要,有什麼不可以')\n",
    "    elif'生小孩'in msg:\n",
    "        print('(๑•́ ₃ •̀๑)下個月')\n",
    "    elif'對象'in msg:\n",
    "        print('(๑•́ ₃ •̀๑)有阿,你兒子')\n",
    "    elif'女朋友'in msg:\n",
    "        print('(๑•́ ₃ •̀๑)有阿,你兒子')\n",
    "    elif'結婚'in msg:\n",
    "        print('(๑•́ ₃ •̀๑)下個月,和你兒子')\n",
    "    else:\n",
    "        print('(๑•́ ₃ •̀๑)說人話')"
   ]
  },
  {
   "cell_type": "code",
   "execution_count": null,
   "metadata": {},
   "outputs": [],
   "source": []
  }
 ],
 "metadata": {
  "kernelspec": {
   "display_name": "Python 3",
   "language": "python",
   "name": "python3"
  },
  "language_info": {
   "codemirror_mode": {
    "name": "ipython",
    "version": 3
   },
   "file_extension": ".py",
   "mimetype": "text/x-python",
   "name": "python",
   "nbconvert_exporter": "python",
   "pygments_lexer": "ipython3",
   "version": "3.7.3"
  }
 },
 "nbformat": 4,
 "nbformat_minor": 2
}
