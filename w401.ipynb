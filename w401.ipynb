{
 "cells": [
  {
   "cell_type": "code",
   "execution_count": 35,
   "metadata": {},
   "outputs": [],
   "source": [
    "%matplotlib inline\n",
    "import numpy as np\n",
    "import matplotlib.pyplot as plt\n",
    "import pandas as pd\n",
    "from numpy.random import randint\n",
    "from numpy.random import choice"
   ]
  },
  {
   "cell_type": "code",
   "execution_count": 36,
   "metadata": {},
   "outputs": [],
   "source": [
    "words='''\n",
    "人生長至一世、短如一瞬\n",
    "寰宇浩瀚無際，此生飄渺無歸\n",
    "旅途上，我們將會遇到許多\n",
    "或許喜悅、或許傷悲、或許歡喧、或許靜寧\n",
    "請記得哭過、笑過，要繼續活下去\n",
    "真正重要的到底是什麼\n",
    "我們似乎都在追求著什麼\n",
    "最後才發現\n",
    "握緊手心，裡面什麼都沒有\n",
    "一呼一吸\n",
    "花開花落\n",
    "追日、探月、索星、尋夢、逐塵\n",
    "無論他人怎麼說，我們都是獨一無二的我們\n",
    "紛紛擾擾的一生中\n",
    "或許只有自己明白\n",
    "或許自己也不明白'''"
   ]
  },
  {
   "cell_type": "code",
   "execution_count": 37,
   "metadata": {},
   "outputs": [
    {
     "data": {
      "text/plain": [
       "['',\n",
       " '人生長至一世、短如一瞬',\n",
       " '寰宇浩瀚無際，此生飄渺無歸',\n",
       " '旅途上，我們將會遇到許多',\n",
       " '或許喜悅、或許傷悲、或許歡喧、或許靜寧',\n",
       " '請記得哭過、笑過，要繼續活下去',\n",
       " '真正重要的到底是什麼',\n",
       " '我們似乎都在追求著什麼',\n",
       " '最後才發現',\n",
       " '握緊手心，裡面什麼都沒有',\n",
       " '一呼一吸',\n",
       " '花開花落',\n",
       " '追日、探月、索星、尋夢、逐塵',\n",
       " '無論他人怎麼說，我們都是獨一無二的我們',\n",
       " '紛紛擾擾的一生中',\n",
       " '或許只有自己明白',\n",
       " '或許自己也不明白']"
      ]
     },
     "execution_count": 37,
     "metadata": {},
     "output_type": "execute_result"
    }
   ],
   "source": [
    "words.split('\\n')"
   ]
  },
  {
   "cell_type": "code",
   "execution_count": 38,
   "metadata": {},
   "outputs": [],
   "source": [
    "phrase=words.split('\\n')"
   ]
  },
  {
   "cell_type": "code",
   "execution_count": 40,
   "metadata": {},
   "outputs": [
    {
     "name": "stdout",
     "output_type": "stream",
     "text": [
      "我們似乎都在追求著什麼\n",
      "寰宇浩瀚無際，此生飄渺無歸,或許自己也不明白\n",
      "握緊手心，裡面什麼都沒有,追日、探月、索星、尋夢、逐塵\n",
      "人生長至一世、短如一瞬\n"
     ]
    }
   ],
   "source": [
    "p=randint(2,7)\n",
    "for i in range(p):\n",
    "    pp=randint(1,3)\n",
    "    egg=(choice(phrase,pp))\n",
    "    ham=','.join(egg)\n",
    "    print(ham)"
   ]
  },
  {
   "cell_type": "code",
   "execution_count": 41,
   "metadata": {},
   "outputs": [
    {
     "name": "stdout",
     "output_type": "stream",
     "text": [
      "The following commands were written to file `'w401.py'35.py`:\n",
      "words='''\n",
      "人生長至一世、短如一瞬\n",
      "寰宇浩瀚無際，此生飄渺無歸\n",
      "旅途上，我們將會遇到許多\n",
      "或許喜悅、或許傷悲、或許歡喧、或許靜寧\n",
      "請記得哭過、笑過，要繼續活下去\n",
      "真正重要的到底是什麼\n",
      "我們似乎都在追求著什麼\n",
      "最後才發現\n",
      "握緊手心，裡面什麼都沒有\n",
      "一呼一吸\n",
      "花開花落\n",
      "追日、探月、索星、尋夢、逐塵\n",
      "無論他人怎麼說，我們都是獨一無二的我們\n",
      "紛紛擾擾的一生中\n",
      "或許只有自己明白\n",
      "或許自己也不明白'''\n",
      "words.split('\\n')\n",
      "phrase=words.split('\\n')\n",
      "p=randint(2,7)\n",
      "for i in range(p):\n",
      "    pp=randint(1,3)\n",
      "    egg=(choice(phrase,pp))\n",
      "    ham=','.join(egg)\n",
      "    print(ham)\n"
     ]
    }
   ],
   "source": [
    "%save 'w401.py'35 36 37 38 40"
   ]
  },
  {
   "cell_type": "code",
   "execution_count": null,
   "metadata": {},
   "outputs": [],
   "source": []
  }
 ],
 "metadata": {
  "kernelspec": {
   "display_name": "Python 3",
   "language": "python",
   "name": "python3"
  },
  "language_info": {
   "codemirror_mode": {
    "name": "ipython",
    "version": 3
   },
   "file_extension": ".py",
   "mimetype": "text/x-python",
   "name": "python",
   "nbconvert_exporter": "python",
   "pygments_lexer": "ipython3",
   "version": "3.7.3"
  }
 },
 "nbformat": 4,
 "nbformat_minor": 2
}
