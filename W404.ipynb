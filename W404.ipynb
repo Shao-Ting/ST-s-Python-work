{
 "cells": [
  {
   "cell_type": "code",
   "execution_count": 1,
   "metadata": {},
   "outputs": [],
   "source": [
    "%matplotlib inline\n",
    "import numpy as np\n",
    "import matplotlib.pyplot as plt\n",
    "import pandas as pd"
   ]
  },
  {
   "cell_type": "code",
   "execution_count": 1,
   "metadata": {},
   "outputs": [],
   "source": [
    "from numpy.random import randint"
   ]
  },
  {
   "cell_type": "code",
   "execution_count": 17,
   "metadata": {},
   "outputs": [
    {
     "name": "stdout",
     "output_type": "stream",
     "text": [
      "                      ✪\n",
      "                    ★!!★\n",
      "                  ★★!!★★\n",
      "                ★★★!!★★★\n",
      "              ★★★★!!★★★★\n",
      "            ★★★★★!!★★★★★\n",
      "          ★★★★★★!!★★★★★★\n",
      "        ★★★★★★★!!★★★★★★★\n",
      "      ★★★★★★★★!!★★★★★★★★\n",
      "    ★★★★★★★★★!!★★★★★★★★★\n",
      "  ★★★★★★★★★★!!★★★★★★★★★★\n",
      "★★★★★★★★★★★!!★★★★★★★★★★★\n",
      "None\n"
     ]
    }
   ],
   "source": [
    "n=randint(5,15)\n",
    "def tree(n):\n",
    "    print('  '*n+'✪')\n",
    "    for i in range(1,n+1):\n",
    "        print('  '*(n-i)+'★'*i+'!!'*1+'★'*i)\n",
    "print(tree(n))"
   ]
  },
  {
   "cell_type": "code",
   "execution_count": null,
   "metadata": {},
   "outputs": [],
   "source": []
  },
  {
   "cell_type": "code",
   "execution_count": null,
   "metadata": {},
   "outputs": [],
   "source": []
  },
  {
   "cell_type": "code",
   "execution_count": null,
   "metadata": {},
   "outputs": [],
   "source": []
  }
 ],
 "metadata": {
  "kernelspec": {
   "display_name": "Python 3",
   "language": "python",
   "name": "python3"
  },
  "language_info": {
   "codemirror_mode": {
    "name": "ipython",
    "version": 3
   },
   "file_extension": ".py",
   "mimetype": "text/x-python",
   "name": "python",
   "nbconvert_exporter": "python",
   "pygments_lexer": "ipython3",
   "version": "3.7.3"
  }
 },
 "nbformat": 4,
 "nbformat_minor": 2
}
