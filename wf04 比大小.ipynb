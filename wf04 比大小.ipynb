{
 "cells": [
  {
   "cell_type": "code",
   "execution_count": 1,
   "metadata": {},
   "outputs": [],
   "source": [
    "%matplotlib inline\n",
    "import numpy as np\n",
    "import matplotlib.pyplot as plt\n",
    "import pandas as pd"
   ]
  },
  {
   "cell_type": "code",
   "execution_count": 2,
   "metadata": {},
   "outputs": [],
   "source": [
    "class Card:          #黑桃♠、紅心♥、梅花♣、方塊♦\n",
    "    SUITS = ['♠','♥','♣','♦'] \n",
    "    RANKS = ['A','2','3','4','5','6','7','8','9','10','J','Q','K']\n",
    "    \n",
    "    def __init__(self,s,r): #記得要兩個底線#(我自己,花色,牌面)\n",
    "        self.suit = s\n",
    "        self.rank = r\n",
    "    \n",
    "    def __repr__(self):  ##\n",
    "        thecard = self.SUITS[self.suit] + self.RANKS[self.rank]\n",
    "        return thecard  ##"
   ]
  },
  {
   "cell_type": "code",
   "execution_count": 3,
   "metadata": {},
   "outputs": [],
   "source": [
    "from numpy.random import randint\n",
    "from numpy.random import choice"
   ]
  },
  {
   "cell_type": "code",
   "execution_count": 4,
   "metadata": {},
   "outputs": [
    {
     "name": "stdout",
     "output_type": "stream",
     "text": [
      "電腦的牌:  ♣3\n",
      "您的牌:  ♥9\n",
      "恭喜您!\n"
     ]
    }
   ],
   "source": [
    "b = np.random.randint(0, 4)\n",
    "a = np.random.randint(0, 14)\n",
    "c = np.random.randint(0, 4)\n",
    "d = np.random.randint(0, 14)\n",
    "card_ques = Card(b, a)\n",
    "card_ans = Card(c, d)\n",
    "if a>d:\n",
    "    print('電腦的牌: ', card_ques)\n",
    "    print('您的牌: ', card_ans)\n",
    "    print('真可惜!')\n",
    "    \n",
    "elif a<d:\n",
    "    print('電腦的牌: ', card_ques)\n",
    "    print('您的牌: ', card_ans)\n",
    "    print('恭喜您!')\n",
    "else:\n",
    "    if b<c:\n",
    "        print('電腦的牌: ', card_ques)\n",
    "        print('您的牌: ', card_ans)\n",
    "        print('恭喜您!')\n",
    "    elif b>c:\n",
    "        print('電腦的牌: ', card_ques)\n",
    "        print('您的牌: ', card_ans)\n",
    "        print('真可惜!')\n",
    "    else:\n",
    "        print('電腦的牌: ', card_ques)\n",
    "        print('您的牌: ', card_ans)\n",
    "        print('真可惜!')"
   ]
  },
  {
   "cell_type": "code",
   "execution_count": null,
   "metadata": {},
   "outputs": [],
   "source": []
  }
 ],
 "metadata": {
  "kernelspec": {
   "display_name": "Python 3",
   "language": "python",
   "name": "python3"
  },
  "language_info": {
   "codemirror_mode": {
    "name": "ipython",
    "version": 3
   },
   "file_extension": ".py",
   "mimetype": "text/x-python",
   "name": "python",
   "nbconvert_exporter": "python",
   "pygments_lexer": "ipython3",
   "version": "3.7.3"
  }
 },
 "nbformat": 4,
 "nbformat_minor": 2
}
