{
 "cells": [
  {
   "cell_type": "code",
   "execution_count": 1,
   "metadata": {},
   "outputs": [],
   "source": [
    "%matplotlib inline\n",
    "\n",
    "import numpy as np\n",
    "import matplotlib.pyplot as plt\n",
    "import pandas as pd"
   ]
  },
  {
   "cell_type": "code",
   "execution_count": 3,
   "metadata": {},
   "outputs": [
    {
     "name": "stdout",
     "output_type": "stream",
     "text": [
      "貨幣名稱:日幣\n",
      "匯率:0.27\n",
      "貨幣名稱:美金\n",
      "匯率:29.58\n",
      "台幣:500\n",
      "台幣 500\n",
      "日幣 1851\n",
      "美金 16\n",
      " \n"
     ]
    }
   ],
   "source": [
    "A=input('貨幣名稱:')\n",
    "a=input('匯率:')\n",
    "B=input('貨幣名稱:')\n",
    "b=input('匯率:')\n",
    "ham=input('台幣:')\n",
    "a=float(a)\n",
    "b=float(b)\n",
    "data=ham.split(' ')\n",
    "for i in data:\n",
    "    i=float(i)\n",
    "    print('台幣',int(i))\n",
    "    print(A,int(i/a))\n",
    "    print(B,int(i/b))\n",
    "    print(' ')"
   ]
  },
  {
   "cell_type": "code",
   "execution_count": null,
   "metadata": {},
   "outputs": [],
   "source": []
  }
 ],
 "metadata": {
  "kernelspec": {
   "display_name": "Python 3",
   "language": "python",
   "name": "python3"
  },
  "language_info": {
   "codemirror_mode": {
    "name": "ipython",
    "version": 3
   },
   "file_extension": ".py",
   "mimetype": "text/x-python",
   "name": "python",
   "nbconvert_exporter": "python",
   "pygments_lexer": "ipython3",
   "version": "3.7.3"
  }
 },
 "nbformat": 4,
 "nbformat_minor": 2
}
