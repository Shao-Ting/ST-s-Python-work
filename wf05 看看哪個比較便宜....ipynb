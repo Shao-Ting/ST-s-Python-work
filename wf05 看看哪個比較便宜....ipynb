{
 "cells": [
  {
   "cell_type": "code",
   "execution_count": 1,
   "metadata": {},
   "outputs": [],
   "source": [
    "%matplotlib inline\n",
    "import numpy as np\n",
    "import matplotlib.pyplot as plt\n",
    "import pandas as pd"
   ]
  },
  {
   "cell_type": "code",
   "execution_count": 2,
   "metadata": {},
   "outputs": [
    {
     "name": "stdout",
     "output_type": "stream",
     "text": [
      "✧◝(⁰▿⁰)◜✧: 請問要輸入了嗎? (若不需要再輸入,請輸入不用了): 是\n",
      "✧◝(⁰▿⁰)◜✧: 請輸入品名: 瑞穗牛奶(販賣機)\n",
      "✧◝(⁰▿⁰)◜✧: 請輸入公克/毫升: 290\n",
      "✧◝(⁰▿⁰)◜✧: 請輸入價錢: 35\n",
      "瑞穗牛奶(販賣機):一公克/一毫升0.1206896551724138元\n",
      " \n",
      "✧◝(⁰▿⁰)◜✧: 請問要輸入了嗎? (若不需要再輸入,請輸入不用了): 要\n",
      "✧◝(⁰▿⁰)◜✧: 請輸入品名: 義美全脂鮮奶(全聯)\n",
      "✧◝(⁰▿⁰)◜✧: 請輸入公克/毫升: 2000\n",
      "✧◝(⁰▿⁰)◜✧: 請輸入價錢: 160\n",
      "義美全脂鮮奶(全聯):一公克/一毫升0.08元\n",
      " \n",
      "✧◝(⁰▿⁰)◜✧: 請問要輸入了嗎? (若不需要再輸入,請輸入不用了): 是\n",
      "✧◝(⁰▿⁰)◜✧: 請輸入品名: 福樂鮮奶(全聯)\n",
      "✧◝(⁰▿⁰)◜✧: 請輸入公克/毫升: 1892\n",
      "✧◝(⁰▿⁰)◜✧: 請輸入價錢: 158\n",
      "福樂鮮奶(全聯):一公克/一毫升0.08350951374207188元\n",
      " \n",
      "✧◝(⁰▿⁰)◜✧: 請問要輸入了嗎? (若不需要再輸入,請輸入不用了): 不用了\n",
      "✧◝(⁰▿⁰)◜✧: 感謝您的使用\n"
     ]
    }
   ],
   "source": [
    "msg = '測試'\n",
    "while(msg!='不用了'):\n",
    "    msg = input('✧◝(⁰▿⁰)◜✧: 請問要輸入了嗎? (若不需要再輸入,請輸入不用了): ')\n",
    "    if '不用了' in msg:\n",
    "        print('✧◝(⁰▿⁰)◜✧: 感謝您的使用')\n",
    "    else:\n",
    "        goods = input('✧◝(⁰▿⁰)◜✧: 請輸入品名: ')\n",
    "        ham = input('✧◝(⁰▿⁰)◜✧: 請輸入公克/毫升: ')\n",
    "        money = input('✧◝(⁰▿⁰)◜✧: 請輸入價錢: ')\n",
    "        ham = float(ham)\n",
    "        money = float(money)\n",
    "        spam = money/ham\n",
    "        spam = str(spam)\n",
    "        print(goods + ':' + '一公克/一毫升' + spam + '元')\n",
    "        print(' ')\n",
    "\n"
   ]
  },
  {
   "cell_type": "code",
   "execution_count": null,
   "metadata": {},
   "outputs": [],
   "source": []
  }
 ],
 "metadata": {
  "kernelspec": {
   "display_name": "Python 3",
   "language": "python",
   "name": "python3"
  },
  "language_info": {
   "codemirror_mode": {
    "name": "ipython",
    "version": 3
   },
   "file_extension": ".py",
   "mimetype": "text/x-python",
   "name": "python",
   "nbconvert_exporter": "python",
   "pygments_lexer": "ipython3",
   "version": "3.7.3"
  }
 },
 "nbformat": 4,
 "nbformat_minor": 2
}
