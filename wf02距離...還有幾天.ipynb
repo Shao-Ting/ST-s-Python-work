{
 "cells": [
  {
   "cell_type": "code",
   "execution_count": 2,
   "metadata": {},
   "outputs": [],
   "source": [
    "%matplotlib inline\n",
    "import numpy as np\n",
    "import matplotlib.pyplot as plt\n",
    "import pandas as pd\n",
    "import time"
   ]
  },
  {
   "cell_type": "code",
   "execution_count": 3,
   "metadata": {},
   "outputs": [
    {
     "name": "stdout",
     "output_type": "stream",
     "text": [
      "請問您想要計算什麼日子:2020除夕\n",
      "請輸入今日日期(格式YYYY-MM-DD):2019-12-31\n",
      "請輸入欲計算日日期(格式YYYY-MM-DD):2020-01-24\n",
      "距離 2020除夕 還有 24 天\n"
     ]
    }
   ],
   "source": [
    "goal=input('請問您想要計算什麼日子:')\n",
    "startday=(input('請輸入今日日期(格式YYYY-MM-DD):'))\n",
    "endday=(input('請輸入欲計算日日期(格式YYYY-MM-DD):'))\n",
    "startsec=time.mktime(time.strptime(startday,'%Y-%m-%d'))\n",
    "endsec=time.mktime(time.strptime(endday,'%Y-%m-%d'))\n",
    "workday=int((endsec-startsec)/(24*3600))\n",
    "print('距離',goal, '還有',workday,'天')"
   ]
  },
  {
   "cell_type": "code",
   "execution_count": null,
   "metadata": {},
   "outputs": [],
   "source": []
  }
 ],
 "metadata": {
  "kernelspec": {
   "display_name": "Python 3",
   "language": "python",
   "name": "python3"
  },
  "language_info": {
   "codemirror_mode": {
    "name": "ipython",
    "version": 3
   },
   "file_extension": ".py",
   "mimetype": "text/x-python",
   "name": "python",
   "nbconvert_exporter": "python",
   "pygments_lexer": "ipython3",
   "version": "3.7.3"
  }
 },
 "nbformat": 4,
 "nbformat_minor": 2
}
