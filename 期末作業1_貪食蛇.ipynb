{
 "cells": [
  {
   "cell_type": "code",
   "execution_count": 2,
   "metadata": {},
   "outputs": [],
   "source": [
    "%matplotlib inline\n",
    "\n",
    "import numpy as np\n",
    "import matplotlib.pyplot as plt\n",
    "import pandas as pd"
   ]
  },
  {
   "cell_type": "code",
   "execution_count": 3,
   "metadata": {},
   "outputs": [
    {
     "name": "stdout",
     "output_type": "stream",
     "text": [
      "Requirement already satisfied: pygame in c:\\users\\li\\anaconda3\\lib\\site-packages (1.9.6)\n"
     ]
    }
   ],
   "source": [
    "!pip install pygame"
   ]
  },
  {
   "cell_type": "code",
   "execution_count": 4,
   "metadata": {},
   "outputs": [
    {
     "name": "stdout",
     "output_type": "stream",
     "text": [
      "pygame 1.9.6\n",
      "Hello from the pygame community. https://www.pygame.org/contribute.html\n"
     ]
    }
   ],
   "source": [
    "import sys\n",
    "import pygame\n",
    "import time\n",
    "import random\n",
    "from pygame.locals import *"
   ]
  },
  {
   "cell_type": "code",
   "execution_count": 5,
   "metadata": {},
   "outputs": [
    {
     "ename": "SystemExit",
     "evalue": "",
     "output_type": "error",
     "traceback": [
      "An exception has occurred, use %tb to see the full traceback.\n",
      "\u001b[1;31mSystemExit\u001b[0m\n"
     ]
    },
    {
     "name": "stderr",
     "output_type": "stream",
     "text": [
      "C:\\Users\\li\\Anaconda3\\lib\\site-packages\\IPython\\core\\interactiveshell.py:3333: UserWarning: To exit: use 'exit', 'quit', or Ctrl-D.\n",
      "  warn(\"To exit: use 'exit', 'quit', or Ctrl-D.\", stacklevel=1)\n"
     ]
    }
   ],
   "source": [
    "#初始化\n",
    "\n",
    "pygame.init()\n",
    "fpsClock = pygame.time.Clock() ###\n",
    "\n",
    "playSurface = pygame.display.set_mode((640, 480))\n",
    "pygame.display.set_caption('Snake Go!')\n",
    "\n",
    "\n",
    "\n",
    "#顏色變量\n",
    "red = pygame.Color(255, 0, 0)\n",
    "black = pygame.Color(0, 0, 0)\n",
    "white = pygame.Color(255, 255, 255)\n",
    "yellow = pygame.Color(255, 224, 32)\n",
    "grey = pygame.Color(150, 150, 150)\n",
    "lightred = pygame.Color(225, 208, 160)\n",
    "lightgrey = pygame.Color(220, 220, 220)\n",
    "\n",
    "fps_controller = pygame.time.Clock()\n",
    "\n",
    "#貪食蛇 & 樹莓\n",
    "snakePosition = [100, 100] #頭\n",
    "snakeSegments = [[100, 100], [80, 100], [60, 100]] #身體\n",
    "\n",
    "raspberryPosition = [300, 300] #初始樹莓位置\n",
    "raspberrySpawned = 1 #樹莓個數\n",
    "food_spawn = True\n",
    "\n",
    "direction = 'RIGHT' #初始方向\n",
    "score = 0 #初始分數\n",
    "\n",
    "changeDirection = direction\n",
    "\n",
    "#Gameover & Score\n",
    "def gameover():\n",
    "    # G O字體大小\n",
    "    gameoverFont = pygame.font.SysFont('times new roman', 72)\n",
    "    gameoverSurf = gameoverFont.render('Game Over', True, grey)\n",
    "    gameoverRect = gameoverSurf.get_rect()\n",
    "    gameoverRect.midtop = (320, 125)   ###\n",
    "    playSurface.blit(gameoverSurf, gameoverRect)###\n",
    "    show_score(0, red, 'times', 20)\n",
    "    pygame.display.flip()  ###刷新介面\n",
    "    #休眠10秒自動關閉\n",
    "    time.sleep(10)\n",
    "    pygame.quit()\n",
    "    sys.exit()\n",
    "    #分數與字體大小\n",
    "def show_score(choice, color, font, size):\n",
    "    scoreFont = pygame.font.SysFont('times new roman', 20)\n",
    "    scoreSurf = scoreFont.render('Score: ' + str(score), True, color)\n",
    "    scoreRect = scoreSurf.get_rect()\n",
    "    \n",
    "    scoreRect.midtop = (320, 225)\n",
    "    playSurface.blit(scoreSurf, scoreRect)\n",
    "\n",
    "\n",
    "\n",
    "#鍵盤\n",
    "#檢測按鍵\n",
    "while True:\n",
    "    for event in pygame.event.get():\n",
    "        if event.type == pygame.QUIT:\n",
    "            pygame.quit()\n",
    "            sys.exit()\n",
    "        elif event.type == pygame.KEYDOWN:\n",
    "            #判斷鍵盤\n",
    "            if event.key == pygame.K_RIGHT or event.key == ord('d'):\n",
    "                changeDirection = 'RIGHT'\n",
    "            if event.key == pygame.K_LEFT or event.key == ord('a'):\n",
    "                changeDirection = 'LEFT'\n",
    "            if event.key == pygame.K_UP or event.key == ord('w'):\n",
    "                changeDirection = 'UP'\n",
    "            if event.key == pygame.K_DOWN or event.key == ord('s'):\n",
    "                changeDirection = \"DOWN\"\n",
    "            if event.key == pygame.K_ESCAPE: #按esc退出遊戲\n",
    "                pygame.event.post(pygame.event.Event(pygame.QUIT))\n",
    "        #限制反向運動\n",
    "    if changeDirection == 'RIGHT' and not direction == 'LEFT':\n",
    "         direction = changeDirection\n",
    "    if changeDirection == 'LEFT' and not direction == 'RIGHT':\n",
    "         direction = changeDirection\n",
    "    if changeDirection == 'UP' and not direction == 'DOWN':\n",
    "        direction = changeDirection\n",
    "    if changeDirection == 'DOWN' and not direction == 'UP':\n",
    "        direction = changeDirection\n",
    "        #根據方向移動頭座標\n",
    "    if direction == 'RIGHT':\n",
    "        snakePosition[0] += 20\n",
    "    if direction == 'LEFT':\n",
    "        snakePosition[0] -= 20\n",
    "    if direction == 'UP':\n",
    "        snakePosition[1] -= 20 #####\n",
    "    if direction == 'DOWN':\n",
    "        snakePosition[1] += 20\n",
    "        \n",
    "        #將頭位置加入列表\n",
    "    snakeSegments.insert(0, list(snakePosition))\n",
    "\n",
    "#判斷是否吃到樹莓\n",
    "    if snakePosition[0] == raspberryPosition[0] and snakePosition[1] == raspberryPosition[1]:\n",
    "        score += 1 #分數增加\n",
    "        food_spawn = False\n",
    "    else:\n",
    "        snakeSegments.pop()  #將蛇身最後移出列表\n",
    "\n",
    "#重新生成樹莓\n",
    "    if not food_spawn:\n",
    "        x = random.randrange(1, 32)\n",
    "        y = random.randrange(1, 24)\n",
    "        raspberryPosition = [int(x*20), int(y*20)]\n",
    "        raspberrySpawned = 1\n",
    "        food_spawn = True\n",
    "        \n",
    "    \n",
    "#繪製pygame的顯示層\n",
    "    playSurface.fill(black)\n",
    "    for position in snakeSegments[1:]: #蛇身白色\n",
    "        pygame.draw.rect(playSurface, white, Rect(position[0], position[1], 20, 20))\n",
    "    pygame.draw.rect(playSurface, lightgrey, Rect(snakePosition[0], snakePosition[1], 20, 20)) #頭灰\n",
    "    pygame.draw.rect(playSurface, red, Rect(raspberryPosition[0], raspberryPosition[1], 20, 20)) #樹莓紅\n",
    "#刷新pygame顯示層\n",
    "    pygame.display.flip()\n",
    "\n",
    "#判斷死亡\n",
    "    if snakePosition[0] > 620 or snakePosition[0] < 0:\n",
    "        gameover()\n",
    "    if snakePosition[1] > 460 or snakePosition[1] < 0:\n",
    "        gameover()\n",
    "    for snakeBody in snakeSegments[1:]: #碰身體\n",
    "        if snakePosition[0] == snakeBody[0] and snakePosition[1] == snakeBody[1]:\n",
    "            gameover()\n",
    "    \n",
    "    if len(snakeSegments) <40:\n",
    "        speed = 3 + len(snakeSegments)//2\n",
    "    else:\n",
    "        speed = 23\n",
    "    \n",
    "    show_score(1, white, score, 20)\n",
    "#控制遊戲速度\n",
    "    fpsClock.tick(50)\n",
    "    pygame.display.update()\n",
    "    \n",
    "    fps_controller.tick(speed)"
   ]
  },
  {
   "cell_type": "code",
   "execution_count": null,
   "metadata": {},
   "outputs": [],
   "source": []
  },
  {
   "cell_type": "code",
   "execution_count": null,
   "metadata": {},
   "outputs": [],
   "source": []
  }
 ],
 "metadata": {
  "kernelspec": {
   "display_name": "Python 3",
   "language": "python",
   "name": "python3"
  },
  "language_info": {
   "codemirror_mode": {
    "name": "ipython",
    "version": 3
   },
   "file_extension": ".py",
   "mimetype": "text/x-python",
   "name": "python",
   "nbconvert_exporter": "python",
   "pygments_lexer": "ipython3",
   "version": "3.7.3"
  }
 },
 "nbformat": 4,
 "nbformat_minor": 2
}
