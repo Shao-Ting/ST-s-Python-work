{
 "cells": [
  {
   "cell_type": "code",
   "execution_count": 1,
   "metadata": {},
   "outputs": [],
   "source": [
    "%matplotlib inline\n",
    "import numpy as np\n",
    "import matplotlib.pyplot as plt\n",
    "import pandas as pd\n",
    "from numpy.random import randint\n",
    "from numpy.random import choice"
   ]
  },
  {
   "cell_type": "code",
   "execution_count": 2,
   "metadata": {},
   "outputs": [
    {
     "name": "stdout",
     "output_type": "stream",
     "text": [
      "抽人(輸入名字): 小明 小美 咚咚 阿西 大熊 小夫 英一 小花 小葵 小新 小智\n",
      "請問要抽幾個人?(輸入數字1~5)3\n",
      "抽到了...\n",
      "['小美'] ['阿西'] ['小葵']\n"
     ]
    }
   ],
   "source": [
    "ham = input('抽人(輸入名字): ')\n",
    "ham2=ham.split(' ')\n",
    "\n",
    "spam = input('請問要抽幾個人?(輸入數字1~5)')\n",
    "\n",
    "if '1' in spam:\n",
    "    print('抽到了...',choice(ham2,1))\n",
    "elif '2' in spam:\n",
    "    A = choice(ham2,1)\n",
    "    ham2.remove(A)\n",
    "    B = choice(ham2,1)\n",
    "    print('抽到了...')\n",
    "    print( A,B)\n",
    "elif '3' in spam:\n",
    "    A = choice(ham2,1)\n",
    "    ham2.remove(A)\n",
    "    B = choice(ham2,1)\n",
    "    ham2.remove(B)\n",
    "    C = choice(ham2,1)\n",
    "    print('抽到了...')\n",
    "    print( A,B,C)\n",
    "elif '4' in spam:\n",
    "    A = choice(ham2,1)\n",
    "    ham2.remove(A)\n",
    "    B = choice(ham2,1)\n",
    "    ham2.remove(B)\n",
    "    C = choice(ham2,1)\n",
    "    ham2.remove(C)\n",
    "    D = choice(ham2,1)\n",
    "    print('抽到了...')\n",
    "    print( A,B,C,D)\n",
    "elif '5' in spam:\n",
    "    A = choice(ham2,1)\n",
    "    ham2.remove(A)\n",
    "    B = choice(ham2,1)\n",
    "    ham2.remove(B)\n",
    "    C = choice(ham2,1)\n",
    "    ham2.remove(C)\n",
    "    D = choice(ham2,1)\n",
    "    ham2.remove(D)\n",
    "    E = choice(ham2,1)\n",
    "    print('抽到了...')\n",
    "    print( A,B,C,D,E)\n"
   ]
  },
  {
   "cell_type": "code",
   "execution_count": null,
   "metadata": {},
   "outputs": [],
   "source": []
  }
 ],
 "metadata": {
  "kernelspec": {
   "display_name": "Python 3",
   "language": "python",
   "name": "python3"
  },
  "language_info": {
   "codemirror_mode": {
    "name": "ipython",
    "version": 3
   },
   "file_extension": ".py",
   "mimetype": "text/x-python",
   "name": "python",
   "nbconvert_exporter": "python",
   "pygments_lexer": "ipython3",
   "version": "3.7.3"
  }
 },
 "nbformat": 4,
 "nbformat_minor": 2
}
